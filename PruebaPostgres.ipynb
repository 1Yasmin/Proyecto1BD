{
 "cells": [
  {
   "cell_type": "code",
   "execution_count": 1,
   "metadata": {},
   "outputs": [
    {
     "name": "stdout",
     "output_type": "stream",
     "text": [
      "[('Samantha                 ',)]\n",
      "('Samantha                 ',)\n",
      "(976603268494184448L, u'RT @Twitch: Level up your stream with Extensions, launching today on Twitch mobile apps. See which Extensions are available now and learn h\\u2026')\n",
      "(973764798264455169L, u'RT @ThaumPenguin: 5. Friends with pets https://t.co/kjKdNhoTzP')\n",
      "(972879359248801793L, u'Shit I think we accidentally moved to Silent Hill https://t.co/KadTSL2zqm')\n",
      "(971150333350047744L, u'RT @ksheely: https://t.co/72r4LqHGMr')\n",
      "(970246857006858240L, u'RT @bleuvaIentine: rami malek suspiciously using a parking meter in beverly hills. these candids saved me. https://t.co/YZD5oYDDdo')\n",
      "(969792718649090048L, u'@jaimewoo My favorite was probably Fried Rice, despite the cliche')\n",
      "(969792637992517632L, u'@jaimewoo Watch a different episode -- Pizza is v white')\n",
      "(969460748278644736L, u\"@tsunamino Well, I know for sure you're giving him a lot of cuddles, so at least he knows he's still a good boy :(\\u2026 https://t.co/uXfl5B1LhK\")\n",
      "(969456349112238080L, u\"RT @_Dominia: Raise your hand if you've ever logged out, looked at your character screen, and immediately logged back in because you forgot\\u2026\")\n",
      "(969455357004193793L, u'@tsunamino \\U0001f622 poor puppers -- does he seem to be in pain?')\n"
     ]
    }
   ],
   "source": [
    "#Importar las librerias\n",
    "import psycopg2\n",
    "import twitter\n",
    "from pymongo import MongoClient\n",
    "#Conectarse usando la libreria psycopg2\n",
    "conn = psycopg2.connect(\"dbname=Proyecto1 user=CRM password=holi1234 host=localhost\")\n",
    "\n",
    "#Activar la conexion Postgres\n",
    "cur = conn.cursor()\n",
    "\n",
    "#Activar la conexion Mongo\n",
    "MONGO_HOST= 'mongodb://localhost/proyecto1db' \n",
    "\n",
    "api = twitter.Api(consumer_key='Iok4qtUJHs7AllnroBMjjcQUs',consumer_secret='j8SPDfkUqcc2v7Qyt6GDxBDyJqzraEIzTCBjXZIDXUhUu2Pfsb',access_token_key='793556090294198272-KZ6eZovXBRQtS4RgdmWwwul7WPS35aB',access_token_secret='220NsNtxCUMPQK0wd33wY162ASlvMFxuVuUDpGbMtefky')\n",
    "\n",
    "#Verifica conexion\n",
    "#print(api.VerifyCredentials())\n",
    "\n",
    "#Query para insertar en la db\n",
    "#cur.execute(\"INSERT INTO paciente (nombre, apellidos) VALUES ('Samantha', 'Duarte'), ('Ivette', 'Cardona')\")\n",
    "#Guardarlo en postgres\n",
    "#conn.commit()\n",
    "\n",
    "#Queries\n",
    "#Cambiar el id para obtener el nombre que se desee\n",
    "#Seleccionar la tabla y desplegar sus elementos \n",
    "cur.execute(\"SELECT nombre from paciente WHERE id_paciente = 21 \")\n",
    "#fetchall guarda las tuplas en una lista de python \n",
    "rows = cur.fetchall()\n",
    "rows \n",
    "hola = rows[0]\n",
    "#Obtiene el valor del nombre del paciente guardado en Postgres\n",
    "nombre = hola[0]\n",
    "#print(rows)\n",
    "#print(hola)\n",
    "\n",
    "#Lo de twitter\n",
    "client = MongoClient(MONGO_HOST)\n",
    "\n",
    "# Use twitterdb database. If it doesn't exist, it will be created.\n",
    "db = client.proyecto1db\n",
    "\n",
    "\n",
    "#nombre = raw_input('Nombre de usuario del paciente: ')\n",
    "#Obtiene los tweets limitados por count con el nombre de usuario \n",
    "t = api.GetUserTimeline(screen_name=nombre, count=10)\n",
    "tweets = [i.AsDict() for i in t]\n",
    "for t in tweets:\n",
    "    print(t['id'], t['text'])\n",
    "    \n",
    "    #insert the data into the mongoDB into a collection called twitter_search\n",
    "    #if twitter_search doesn't exist, it will be created.\n",
    "    db.twitter_search.insert_one({\"username\": nombre,\"tweet\": t['text']})\n",
    "    \n",
    "#Cerrar la conexion con postgres\n",
    "cur.close()\n",
    "conn.close()\n",
    "\n",
    "#Nos falta: \n",
    "#Conectar la base de datos proyecto1db con express\n",
    "#Graficas\n",
    "#React\n",
    "#Manejo de errores"
   ]
  },
  {
   "cell_type": "code",
   "execution_count": null,
   "metadata": {},
   "outputs": [],
   "source": []
  }
 ],
 "metadata": {
  "kernelspec": {
   "display_name": "Python 2",
   "language": "python",
   "name": "python2"
  },
  "language_info": {
   "codemirror_mode": {
    "name": "ipython",
    "version": 2
   },
   "file_extension": ".py",
   "mimetype": "text/x-python",
   "name": "python",
   "nbconvert_exporter": "python",
   "pygments_lexer": "ipython2",
   "version": "2.7.14"
  }
 },
 "nbformat": 4,
 "nbformat_minor": 2
}
